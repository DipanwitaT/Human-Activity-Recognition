{
 "cells": [
  {
   "cell_type": "code",
   "execution_count": 1,
   "metadata": {},
   "outputs": [],
   "source": [
    "from numpy import mean\n",
    "from numpy import std\n",
    "from numpy import dstack\n",
    "from pandas import read_csv\n",
    "from matplotlib import pyplot\n",
    "from keras.models import Sequential\n",
    "from keras.layers import Dense\n",
    "from keras.layers import Flatten\n",
    "from keras.layers import Dropout\n",
    "from keras.layers.convolutional import Conv2D\n",
    "from keras.layers.convolutional import MaxPooling2D\n",
    "from keras.layers.convolutional import Conv1D\n",
    "from keras.layers.convolutional import MaxPooling1D\n",
    "from keras.utils import to_categorical\n",
    "import seaborn as sns\n",
    "import numpy as np\n",
    "from keras.callbacks import ModelCheckpoint, LearningRateScheduler, EarlyStopping\n",
    "from sklearn import metrics\n",
    "from sklearn.metrics import classification_report\n",
    "from matplotlib import pyplot as plt"
   ]
  },
  {
   "cell_type": "code",
   "execution_count": 2,
   "metadata": {},
   "outputs": [],
   "source": [
    "# load a single file as a numpy array\n",
    "def load_file(filepath):\n",
    "    dataframe = read_csv(filepath, header=None, delim_whitespace=True)\n",
    "    return dataframe.values"
   ]
  },
  {
   "cell_type": "code",
   "execution_count": 3,
   "metadata": {},
   "outputs": [],
   "source": [
    "# load a list of files and return as a 3d numpy array\n",
    "def load_group(filenames, prefix=''):\n",
    "    loaded = list()\n",
    "    for name in filenames:\n",
    "        data = load_file(prefix + name)\n",
    "        loaded.append(data)\n",
    "    # stack group so that features are the 3rd dimension\n",
    "    loaded = dstack(loaded)\n",
    "    return loaded"
   ]
  },
  {
   "cell_type": "code",
   "execution_count": 4,
   "metadata": {},
   "outputs": [],
   "source": [
    "# load a dataset group, such as train or test\n",
    "def load_dataset_group(group, prefix=''):\n",
    "    filepath = prefix + group + '/Inertial Signals/'\n",
    "    print('File Path : ',filepath)\n",
    "    # load all 9 files as a single array\n",
    "    filenames = list()\n",
    "    # total acceleration\n",
    "    filenames += ['total_acc_x_'+group+'.txt', 'total_acc_y_'+group+'.txt', 'total_acc_z_'+group+'.txt']\n",
    "    # body acceleration\n",
    "    filenames += ['body_acc_x_'+group+'.txt', 'body_acc_y_'+group+'.txt', 'body_acc_z_'+group+'.txt']\n",
    "    # body gyroscope\n",
    "    filenames += ['body_gyro_x_'+group+'.txt', 'body_gyro_y_'+group+'.txt', 'body_gyro_z_'+group+'.txt']\n",
    "    # load input data\n",
    "    X = load_group(filenames, filepath)\n",
    "    # load class output\n",
    "    y = load_file(prefix + group + '/y_'+group+'.txt')\n",
    "    return X, y"
   ]
  },
  {
   "cell_type": "code",
   "execution_count": 5,
   "metadata": {},
   "outputs": [
    {
     "name": "stdout",
     "output_type": "stream",
     "text": [
      "File Path :  D:/Research Program/UCI_HAR_Dataset/train/Inertial Signals/\n",
      "File Path :  D:/Research Program/UCI_HAR_Dataset/test/Inertial Signals/\n",
      "X_train.shape :  (7352, 128, 9)\n",
      "Y_train.shape :  (7352, 6)\n",
      "X_test.shape :  (2947, 128, 9)\n",
      "Y_test.shape :  (2947, 6)\n"
     ]
    }
   ],
   "source": [
    "# load all train\n",
    "X_train, Y_train = load_dataset_group('train', 'D:/Research Program/UCI_HAR_Dataset/')\n",
    "# load all test\n",
    "X_test, Y_test = load_dataset_group('test', 'D:/Research Program/UCI_HAR_Dataset/')\n",
    "\n",
    "# zero-offset class values\n",
    "Y_train = Y_train - 1\n",
    "Y_test = Y_test - 1\n",
    "# one hot encode y\n",
    "Y_train = to_categorical(Y_train)\n",
    "Y_test = to_categorical(Y_test)\n",
    "\n",
    "print('X_train.shape : ', X_train.shape)\n",
    "print('Y_train.shape : ', Y_train.shape)\n",
    "print('X_test.shape : ', X_test.shape)\n",
    "print('Y_test.shape : ', Y_test.shape)"
   ]
  },
  {
   "cell_type": "code",
   "execution_count": 6,
   "metadata": {},
   "outputs": [],
   "source": [
    "verbose = 1\n",
    "epochs = 50\n",
    "batch_size = 20\n",
    "\n",
    "n_timesteps = X_train.shape[1]\n",
    "n_features = X_train.shape[2]\n",
    "n_outputs = Y_train.shape[1]"
   ]
  },
  {
   "cell_type": "code",
   "execution_count": 7,
   "metadata": {},
   "outputs": [
    {
     "name": "stdout",
     "output_type": "stream",
     "text": [
      "WARNING:tensorflow:`period` argument is deprecated. Please use `save_freq` to specify the frequency in number of batches seen.\n"
     ]
    }
   ],
   "source": [
    "checkpoint = ModelCheckpoint(\"har_weights.h5\", monitor='val_acc', verbose=1, \n",
    "                             save_best_only=True, save_weights_only=False, mode='auto', period=1)"
   ]
  },
  {
   "cell_type": "code",
   "execution_count": 8,
   "metadata": {
    "scrolled": true
   },
   "outputs": [
    {
     "name": "stdout",
     "output_type": "stream",
     "text": [
      "Epoch 1/50\n",
      "364/368 [============================>.] - ETA: 0s - loss: 0.3423 - accuracy: 0.8668WARNING:tensorflow:Can save best model only with val_acc available, skipping.\n",
      "368/368 [==============================] - 4s 10ms/step - loss: 0.3405 - accuracy: 0.8672 - val_loss: 0.3325 - val_accuracy: 0.8738\n",
      "Epoch 2/50\n",
      "364/368 [============================>.] - ETA: 0s - loss: 0.1395 - accuracy: 0.9441WARNING:tensorflow:Can save best model only with val_acc available, skipping.\n",
      "368/368 [==============================] - 4s 11ms/step - loss: 0.1389 - accuracy: 0.9444 - val_loss: 0.3747 - val_accuracy: 0.8829\n",
      "Epoch 3/50\n",
      "366/368 [============================>.] - ETA: 0s - loss: 0.1105 - accuracy: 0.9549WARNING:tensorflow:Can save best model only with val_acc available, skipping.\n",
      "368/368 [==============================] - 3s 9ms/step - loss: 0.1109 - accuracy: 0.9547 - val_loss: 0.3446 - val_accuracy: 0.8999\n",
      "Epoch 4/50\n",
      "366/368 [============================>.] - ETA: 0s - loss: 0.1139 - accuracy: 0.9518WARNING:tensorflow:Can save best model only with val_acc available, skipping.\n",
      "368/368 [==============================] - 3s 9ms/step - loss: 0.1141 - accuracy: 0.9516 - val_loss: 0.3751 - val_accuracy: 0.9016\n",
      "Epoch 5/50\n",
      "364/368 [============================>.] - ETA: 0s - loss: 0.1001 - accuracy: 0.9584WARNING:tensorflow:Can save best model only with val_acc available, skipping.\n",
      "368/368 [==============================] - 3s 9ms/step - loss: 0.0999 - accuracy: 0.9584 - val_loss: 0.3936 - val_accuracy: 0.8907\n",
      "Epoch 6/50\n",
      "364/368 [============================>.] - ETA: 0s - loss: 0.0986 - accuracy: 0.9582WARNING:tensorflow:Can save best model only with val_acc available, skipping.\n",
      "368/368 [==============================] - 3s 9ms/step - loss: 0.0987 - accuracy: 0.9581 - val_loss: 0.3763 - val_accuracy: 0.9019\n",
      "Epoch 7/50\n",
      "363/368 [============================>.] - ETA: 0s - loss: 0.0877 - accuracy: 0.9624WARNING:tensorflow:Can save best model only with val_acc available, skipping.\n",
      "368/368 [==============================] - 3s 9ms/step - loss: 0.0889 - accuracy: 0.9621 - val_loss: 0.4601 - val_accuracy: 0.9033\n",
      "Epoch 8/50\n",
      "363/368 [============================>.] - ETA: 0s - loss: 0.0939 - accuracy: 0.9599WARNING:tensorflow:Can save best model only with val_acc available, skipping.\n",
      "368/368 [==============================] - 3s 8ms/step - loss: 0.0932 - accuracy: 0.9603 - val_loss: 0.3978 - val_accuracy: 0.8928\n",
      "Epoch 9/50\n",
      "365/368 [============================>.] - ETA: 0s - loss: 0.0988 - accuracy: 0.9637WARNING:tensorflow:Can save best model only with val_acc available, skipping.\n",
      "368/368 [==============================] - 3s 9ms/step - loss: 0.0988 - accuracy: 0.9638 - val_loss: 0.2487 - val_accuracy: 0.9141\n",
      "Epoch 10/50\n",
      "367/368 [============================>.] - ETA: 0s - loss: 0.0751 - accuracy: 0.9649WARNING:tensorflow:Can save best model only with val_acc available, skipping.\n",
      "368/368 [==============================] - 3s 9ms/step - loss: 0.0751 - accuracy: 0.9648 - val_loss: 0.3492 - val_accuracy: 0.8945\n",
      "Epoch 11/50\n",
      "365/368 [============================>.] - ETA: 0s - loss: 0.0682 - accuracy: 0.9678WARNING:tensorflow:Can save best model only with val_acc available, skipping.\n",
      "368/368 [==============================] - 3s 9ms/step - loss: 0.0679 - accuracy: 0.9679 - val_loss: 0.3329 - val_accuracy: 0.9196\n",
      "Epoch 12/50\n",
      "365/368 [============================>.] - ETA: 0s - loss: 0.0668 - accuracy: 0.9697WARNING:tensorflow:Can save best model only with val_acc available, skipping.\n",
      "368/368 [==============================] - 3s 8ms/step - loss: 0.0669 - accuracy: 0.9697 - val_loss: 0.4274 - val_accuracy: 0.9145\n",
      "Epoch 13/50\n",
      "365/368 [============================>.] - ETA: 0s - loss: 0.0768 - accuracy: 0.9677WARNING:tensorflow:Can save best model only with val_acc available, skipping.\n",
      "368/368 [==============================] - 3s 9ms/step - loss: 0.0765 - accuracy: 0.9676 - val_loss: 0.3994 - val_accuracy: 0.9206\n",
      "Epoch 14/50\n",
      "364/368 [============================>.] - ETA: 0s - loss: 0.0616 - accuracy: 0.9728WARNING:tensorflow:Can save best model only with val_acc available, skipping.\n",
      "368/368 [==============================] - 3s 8ms/step - loss: 0.0614 - accuracy: 0.9729 - val_loss: 0.4143 - val_accuracy: 0.9189\n",
      "Epoch 15/50\n",
      "362/368 [============================>.] - ETA: 0s - loss: 0.0547 - accuracy: 0.9743WARNING:tensorflow:Can save best model only with val_acc available, skipping.\n",
      "368/368 [==============================] - 3s 9ms/step - loss: 0.0550 - accuracy: 0.9740 - val_loss: 0.3905 - val_accuracy: 0.9108\n",
      "Epoch 16/50\n",
      "366/368 [============================>.] - ETA: 0s - loss: 0.0669 - accuracy: 0.9734WARNING:tensorflow:Can save best model only with val_acc available, skipping.\n",
      "368/368 [==============================] - 3s 9ms/step - loss: 0.0668 - accuracy: 0.9733 - val_loss: 0.4338 - val_accuracy: 0.9125\n",
      "Epoch 17/50\n",
      "362/368 [============================>.] - ETA: 0s - loss: 0.0506 - accuracy: 0.9769WARNING:tensorflow:Can save best model only with val_acc available, skipping.\n",
      "368/368 [==============================] - 3s 9ms/step - loss: 0.0505 - accuracy: 0.9773 - val_loss: 0.3990 - val_accuracy: 0.9291\n",
      "Epoch 18/50\n",
      "363/368 [============================>.] - ETA: 0s - loss: 0.0451 - accuracy: 0.9807WARNING:tensorflow:Can save best model only with val_acc available, skipping.\n",
      "368/368 [==============================] - 3s 9ms/step - loss: 0.0462 - accuracy: 0.9804 - val_loss: 0.5448 - val_accuracy: 0.9155\n",
      "Epoch 19/50\n",
      "366/368 [============================>.] - ETA: 0s - loss: 0.0619 - accuracy: 0.9745WARNING:tensorflow:Can save best model only with val_acc available, skipping.\n",
      "368/368 [==============================] - 3s 9ms/step - loss: 0.0620 - accuracy: 0.9743 - val_loss: 0.6894 - val_accuracy: 0.8955\n",
      "Epoch 20/50\n",
      "364/368 [============================>.] - ETA: 0s - loss: 0.0693 - accuracy: 0.9732WARNING:tensorflow:Can save best model only with val_acc available, skipping.\n",
      "368/368 [==============================] - 3s 9ms/step - loss: 0.0690 - accuracy: 0.9735 - val_loss: 0.4460 - val_accuracy: 0.9145\n",
      "Epoch 21/50\n",
      "368/368 [==============================] - ETA: 0s - loss: 0.0449 - accuracy: 0.9805WARNING:tensorflow:Can save best model only with val_acc available, skipping.\n",
      "368/368 [==============================] - 3s 8ms/step - loss: 0.0449 - accuracy: 0.9805 - val_loss: 0.4102 - val_accuracy: 0.9206\n",
      "Epoch 22/50\n",
      "362/368 [============================>.] - ETA: 0s - loss: 0.0526 - accuracy: 0.9785WARNING:tensorflow:Can save best model only with val_acc available, skipping.\n",
      "368/368 [==============================] - 3s 8ms/step - loss: 0.0527 - accuracy: 0.9782 - val_loss: 0.4701 - val_accuracy: 0.9104\n",
      "Epoch 23/50\n",
      "364/368 [============================>.] - ETA: 0s - loss: 0.0403 - accuracy: 0.9823WARNING:tensorflow:Can save best model only with val_acc available, skipping.\n",
      "368/368 [==============================] - 3s 8ms/step - loss: 0.0403 - accuracy: 0.9823 - val_loss: 0.5241 - val_accuracy: 0.9108\n",
      "Epoch 24/50\n",
      "362/368 [============================>.] - ETA: 0s - loss: 0.0537 - accuracy: 0.9798WARNING:tensorflow:Can save best model only with val_acc available, skipping.\n",
      "368/368 [==============================] - 3s 8ms/step - loss: 0.0537 - accuracy: 0.9796 - val_loss: 0.5059 - val_accuracy: 0.9155\n",
      "Epoch 25/50\n",
      "362/368 [============================>.] - ETA: 0s - loss: 0.0408 - accuracy: 0.9811WARNING:tensorflow:Can save best model only with val_acc available, skipping.\n",
      "368/368 [==============================] - 3s 8ms/step - loss: 0.0406 - accuracy: 0.9814 - val_loss: 0.4029 - val_accuracy: 0.9141\n",
      "Epoch 26/50\n",
      "365/368 [============================>.] - ETA: 0s - loss: 0.0481 - accuracy: 0.9804WARNING:tensorflow:Can save best model only with val_acc available, skipping.\n",
      "368/368 [==============================] - 3s 8ms/step - loss: 0.0480 - accuracy: 0.9804 - val_loss: 0.6216 - val_accuracy: 0.8999\n",
      "Epoch 27/50\n",
      "363/368 [============================>.] - ETA: 0s - loss: 0.0394 - accuracy: 0.9822WARNING:tensorflow:Can save best model only with val_acc available, skipping.\n",
      "368/368 [==============================] - 3s 8ms/step - loss: 0.0391 - accuracy: 0.9825 - val_loss: 0.5307 - val_accuracy: 0.9138\n"
     ]
    },
    {
     "name": "stdout",
     "output_type": "stream",
     "text": [
      "Epoch 28/50\n",
      "367/368 [============================>.] - ETA: 0s - loss: 0.0376 - accuracy: 0.9850WARNING:tensorflow:Can save best model only with val_acc available, skipping.\n",
      "368/368 [==============================] - 3s 8ms/step - loss: 0.0376 - accuracy: 0.9850 - val_loss: 0.8142 - val_accuracy: 0.8785\n",
      "Epoch 29/50\n",
      "368/368 [==============================] - ETA: 0s - loss: 0.0381 - accuracy: 0.9834WARNING:tensorflow:Can save best model only with val_acc available, skipping.\n",
      "368/368 [==============================] - 3s 8ms/step - loss: 0.0381 - accuracy: 0.9834 - val_loss: 0.6978 - val_accuracy: 0.9036\n",
      "Epoch 30/50\n",
      "367/368 [============================>.] - ETA: 0s - loss: 0.0496 - accuracy: 0.9813WARNING:tensorflow:Can save best model only with val_acc available, skipping.\n",
      "368/368 [==============================] - 3s 8ms/step - loss: 0.0495 - accuracy: 0.9814 - val_loss: 0.6295 - val_accuracy: 0.9023\n",
      "Epoch 31/50\n",
      "368/368 [==============================] - ETA: 0s - loss: 0.0329 - accuracy: 0.9845WARNING:tensorflow:Can save best model only with val_acc available, skipping.\n",
      "368/368 [==============================] - 3s 8ms/step - loss: 0.0329 - accuracy: 0.9845 - val_loss: 0.5093 - val_accuracy: 0.9226\n",
      "Epoch 32/50\n",
      "367/368 [============================>.] - ETA: 0s - loss: 0.0312 - accuracy: 0.9872WARNING:tensorflow:Can save best model only with val_acc available, skipping.\n",
      "368/368 [==============================] - 3s 8ms/step - loss: 0.0312 - accuracy: 0.9872 - val_loss: 0.4569 - val_accuracy: 0.9240\n",
      "Epoch 33/50\n",
      "368/368 [==============================] - ETA: 0s - loss: 0.0315 - accuracy: 0.9871WARNING:tensorflow:Can save best model only with val_acc available, skipping.\n",
      "368/368 [==============================] - 3s 8ms/step - loss: 0.0315 - accuracy: 0.9871 - val_loss: 0.5450 - val_accuracy: 0.9237\n",
      "Epoch 34/50\n",
      "365/368 [============================>.] - ETA: 0s - loss: 0.0274 - accuracy: 0.9884WARNING:tensorflow:Can save best model only with val_acc available, skipping.\n",
      "368/368 [==============================] - 3s 9ms/step - loss: 0.0273 - accuracy: 0.9884 - val_loss: 0.5634 - val_accuracy: 0.9233\n",
      "Epoch 35/50\n",
      "368/368 [==============================] - ETA: 0s - loss: 0.0281 - accuracy: 0.9884WARNING:tensorflow:Can save best model only with val_acc available, skipping.\n",
      "368/368 [==============================] - 3s 8ms/step - loss: 0.0281 - accuracy: 0.9884 - val_loss: 0.8369 - val_accuracy: 0.9101\n",
      "Epoch 36/50\n",
      "368/368 [==============================] - ETA: 0s - loss: 0.0377 - accuracy: 0.9874WARNING:tensorflow:Can save best model only with val_acc available, skipping.\n",
      "368/368 [==============================] - 3s 8ms/step - loss: 0.0377 - accuracy: 0.9874 - val_loss: 0.5211 - val_accuracy: 0.9216\n",
      "Epoch 37/50\n",
      "368/368 [==============================] - ETA: 0s - loss: 0.0296 - accuracy: 0.9867WARNING:tensorflow:Can save best model only with val_acc available, skipping.\n",
      "368/368 [==============================] - 3s 8ms/step - loss: 0.0296 - accuracy: 0.9867 - val_loss: 0.4887 - val_accuracy: 0.9186\n",
      "Epoch 38/50\n",
      "366/368 [============================>.] - ETA: 0s - loss: 0.0260 - accuracy: 0.9899WARNING:tensorflow:Can save best model only with val_acc available, skipping.\n",
      "368/368 [==============================] - 3s 9ms/step - loss: 0.0259 - accuracy: 0.9899 - val_loss: 0.4978 - val_accuracy: 0.9182\n",
      "Epoch 39/50\n",
      "363/368 [============================>.] - ETA: 0s - loss: 0.0199 - accuracy: 0.9919WARNING:tensorflow:Can save best model only with val_acc available, skipping.\n",
      "368/368 [==============================] - 3s 8ms/step - loss: 0.0200 - accuracy: 0.9917 - val_loss: 0.5465 - val_accuracy: 0.9189\n",
      "Epoch 40/50\n",
      "367/368 [============================>.] - ETA: 0s - loss: 0.0212 - accuracy: 0.9910WARNING:tensorflow:Can save best model only with val_acc available, skipping.\n",
      "368/368 [==============================] - 3s 8ms/step - loss: 0.0212 - accuracy: 0.9910 - val_loss: 0.4972 - val_accuracy: 0.9270\n",
      "Epoch 41/50\n",
      "368/368 [==============================] - ETA: 0s - loss: 0.0518 - accuracy: 0.9839WARNING:tensorflow:Can save best model only with val_acc available, skipping.\n",
      "368/368 [==============================] - 3s 8ms/step - loss: 0.0518 - accuracy: 0.9839 - val_loss: 0.5419 - val_accuracy: 0.9060\n",
      "Epoch 42/50\n",
      "365/368 [============================>.] - ETA: 0s - loss: 0.0654 - accuracy: 0.9842WARNING:tensorflow:Can save best model only with val_acc available, skipping.\n",
      "368/368 [==============================] - 3s 9ms/step - loss: 0.0652 - accuracy: 0.9844 - val_loss: 0.3816 - val_accuracy: 0.9237\n",
      "Epoch 43/50\n",
      "367/368 [============================>.] - ETA: 0s - loss: 0.0196 - accuracy: 0.9916WARNING:tensorflow:Can save best model only with val_acc available, skipping.\n",
      "368/368 [==============================] - 3s 8ms/step - loss: 0.0196 - accuracy: 0.9916 - val_loss: 0.3919 - val_accuracy: 0.9277\n",
      "Epoch 44/50\n",
      "362/368 [============================>.] - ETA: 0s - loss: 0.0160 - accuracy: 0.9930WARNING:tensorflow:Can save best model only with val_acc available, skipping.\n",
      "368/368 [==============================] - 3s 8ms/step - loss: 0.0161 - accuracy: 0.9928 - val_loss: 0.4329 - val_accuracy: 0.9226\n",
      "Epoch 45/50\n",
      "362/368 [============================>.] - ETA: 0s - loss: 0.0201 - accuracy: 0.9923WARNING:tensorflow:Can save best model only with val_acc available, skipping.\n",
      "368/368 [==============================] - 3s 8ms/step - loss: 0.0205 - accuracy: 0.9920 - val_loss: 0.4627 - val_accuracy: 0.9172\n",
      "Epoch 46/50\n",
      "363/368 [============================>.] - ETA: 0s - loss: 0.0158 - accuracy: 0.9935WARNING:tensorflow:Can save best model only with val_acc available, skipping.\n",
      "368/368 [==============================] - 3s 8ms/step - loss: 0.0159 - accuracy: 0.9935 - val_loss: 0.5489 - val_accuracy: 0.9253\n",
      "Epoch 47/50\n",
      "368/368 [==============================] - ETA: 0s - loss: 0.0146 - accuracy: 0.9946WARNING:tensorflow:Can save best model only with val_acc available, skipping.\n",
      "368/368 [==============================] - 3s 8ms/step - loss: 0.0146 - accuracy: 0.9946 - val_loss: 0.6006 - val_accuracy: 0.9226\n",
      "Epoch 48/50\n",
      "362/368 [============================>.] - ETA: 0s - loss: 0.0352 - accuracy: 0.9905WARNING:tensorflow:Can save best model only with val_acc available, skipping.\n",
      "368/368 [==============================] - 3s 8ms/step - loss: 0.0352 - accuracy: 0.9905 - val_loss: 1.0173 - val_accuracy: 0.8877\n",
      "Epoch 49/50\n",
      "364/368 [============================>.] - ETA: 0s - loss: 0.0290 - accuracy: 0.9901WARNING:tensorflow:Can save best model only with val_acc available, skipping.\n",
      "368/368 [==============================] - 3s 8ms/step - loss: 0.0288 - accuracy: 0.9902 - val_loss: 0.4730 - val_accuracy: 0.9287\n",
      "Epoch 50/50\n",
      "367/368 [============================>.] - ETA: 0s - loss: 0.0123 - accuracy: 0.9952WARNING:tensorflow:Can save best model only with val_acc available, skipping.\n",
      "368/368 [==============================] - 3s 8ms/step - loss: 0.0123 - accuracy: 0.9952 - val_loss: 0.5066 - val_accuracy: 0.9376\n",
      "148/148 [==============================] - 0s 2ms/step - loss: 0.5066 - accuracy: 0.9376\n",
      "[INFO] loss=0.5066, accuracy: 93.7564%\n"
     ]
    }
   ],
   "source": [
    "model = Sequential()\n",
    "model.add(Conv1D(filters=64, kernel_size=3, activation='relu', input_shape=(n_timesteps,n_features)))\n",
    "model.add(Conv1D(filters=64, kernel_size=3, activation='relu', padding = 'same'))\n",
    "model.add(Dropout(0.3))\n",
    "model.add(MaxPooling1D(pool_size=2))\n",
    "model.add(Flatten())\n",
    "model.add(Dense(100, activation='relu'))\n",
    "model.add(Dense(n_outputs, activation='softmax'))\n",
    "model.compile(loss='categorical_crossentropy', optimizer='adam', metrics=['accuracy'])\n",
    "\n",
    "# fit network\n",
    "history = model.fit(X_train, Y_train, validation_data=(X_test, Y_test), \n",
    "                    epochs=epochs, batch_size=batch_size, callbacks = [checkpoint], verbose=verbose)\n",
    "\n",
    "\n",
    "# evaluate model\n",
    "(loss, accuracy) = model.evaluate(X_test, Y_test, batch_size=batch_size, verbose=verbose)\n",
    "print(\"[INFO] loss={:.4f}, accuracy: {:.4f}%\".format(loss, accuracy * 100))\n"
   ]
  },
  {
   "cell_type": "code",
   "execution_count": 9,
   "metadata": {},
   "outputs": [
    {
     "name": "stdout",
     "output_type": "stream",
     "text": [
      "148/148 [==============================] - 0s 2ms/step - loss: 0.5066 - accuracy: 0.9376\n",
      "HAR - 1D CNN Test Accuracy: 93.76%\n"
     ]
    }
   ],
   "source": [
    "scores = model.evaluate(X_test, Y_test, batch_size = batch_size, verbose = verbose)\n",
    "print(\"HAR - 1D CNN Test Accuracy: %.2f%%\" % (scores[1]*100))"
   ]
  },
  {
   "cell_type": "code",
   "execution_count": 17,
   "metadata": {},
   "outputs": [
    {
     "data": {
      "image/png": "[encoded data removed]",
      "text/plain": [
       "<Figure size 432x288 with 2 Axes>"
      ]
     },
     "metadata": {
      "needs_background": "light"
     },
     "output_type": "display_data"
    }
   ],
   "source": [
    "\n",
    "# Print confusion matrix for training data\n",
    "y_pred_train = model.predict(X_train)\n",
    "# Take the class with the highest probability from the train predictions\n",
    "max_y_pred_train = np.argmax(y_pred_train, axis=1)\n",
    "#print(classification_report(trainy, max_y_pred_train))\n",
    "\n",
    "# confusion matrix\n",
    "LABELS = ['WALKING',\n",
    "          'WALKING_UPSTAIRS',\n",
    "          'WALKING_DOWNSTAIRS',\n",
    "          'SITTING',\n",
    "          'STANDING',\n",
    "          'LAYING']\n",
    "y_pred_test = model.predict(X_test)\n",
    "# Take the class with the highest probability from the test predictions\n",
    "max_y_pred_test = np.argmax(y_pred_test, axis=1)\n",
    "max_y_test = np.argmax(Y_test, axis=1)\n",
    "\n",
    "matrix = metrics.confusion_matrix(max_y_test, max_y_pred_test)\n",
    "plt.figure(figsize=(6, 4))\n",
    "ax=sns.heatmap(matrix, xticklabels=LABELS, yticklabels=LABELS, annot=True, fmt=\"d\");\n",
    "#ax= sns.heatmap(matrix,  cbar=False, annot=True, fmt=\"d\")\n",
    "#plt.setp(ax.get_xticklabels(), rotation=45)\n",
    "plt.title('Confusion Matrix')\n",
    "plt.ylabel('True label', fontweight='bold', fontsize = 18)\n",
    "plt.xlabel('Predicted label', fontweight='bold', fontsize = 18)\n",
    "bottom, top = ax.get_ylim()\n",
    "plt.savefig('C:/Users/Dipanwita/OneDrive/Desktop/IEEE Access_CNN_AE_LSTM/images/cnn1d_uci.eps', format='eps', dpi=300, bbox_inches='tight')\n",
    "plt.show()\n",
    "\n"
   ]
  },
  {
   "cell_type": "code",
   "execution_count": null,
   "metadata": {},
   "outputs": [],
   "source": []
  }
 ],
 "metadata": {
  "kernelspec": {
   "display_name": "Python 3",
   "language": "python",
   "name": "python3"
  },
  "language_info": {
   "codemirror_mode": {
    "name": "ipython",
    "version": 3
   },
   "file_extension": ".py",
   "mimetype": "text/x-python",
   "name": "python",
   "nbconvert_exporter": "python",
   "pygments_lexer": "ipython3",
   "version": "3.8.3"
  }
 },
 "nbformat": 4,
 "nbformat_minor": 2
}
